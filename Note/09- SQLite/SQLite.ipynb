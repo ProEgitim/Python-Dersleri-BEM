{
 "cells": [
  {
   "cell_type": "markdown",
   "metadata": {},
   "source": [
    "# SQLite"
   ]
  },
  {
   "cell_type": "raw",
   "metadata": {},
   "source": [
    "Sqlite Veritabanı Oluşturma\n",
    "\n",
    "            1. import sqlite3 -  Modülümüzü dahil ediyoruz.\n",
    "\n",
    "            2. con = sqlite3.connect(\"kütüphane.db\") - kütüphane.db veritabanını oluşturup bağlanıyoruz.\n",
    "            Eğer öyle bir veritabanı varsa bağlanıyoruz. Bağlantıyı con isimli bir değişkene atıyoruz.\n",
    "            3.  Database üzerinde Sql sorgularını çalıştırmak için cursor bir tane imleç oluşturuyoruz. \n",
    "            \"cursor =  con.cursor()\n",
    "            4. Veritabanı işlemlerinin sonunda con.close() ile bağlantımızı koparıyoruz.\n",
    "\n",
    "Veritabanına bağlantı işlemini şu şekilde bir kod ile yapabiliriz. Bu işlemleri bilgisayarınızda yapmaya çalışın."
   ]
  },
  {
   "cell_type": "markdown",
   "metadata": {},
   "source": [
    "## Kitaplık Tablosu oluşturma\n",
    "\n",
    "Veritabanında kitaplık isimli bir tablo oluşturmak için şu 2 sorgudan birini kullanabiliriz.\n",
    "\n",
    "* CREATE TABLE kitaplık (İsim TEXT, Yazar TEXT, Yayınevi TEXT , Sayfa_Sayısı INT) * - Bu sorgu kitaplık isimli bir tablo oluşturacak ve bu tablonun özellikleri İsim (TEXT --> String),Yazar(TEXT --> String),Yayınevi (TEXT ---> String), Sayfa_Sayısı(INT --- int) olacak. Ancak bu sorguyu arda arda çalıştırırsak \"Tablo Already Exists\" hatası alacağız.\n",
    "\n",
    "* CREATE TABLE IF NOT EXISTS kitaplık (İsim TEXT, Yazar TEXT, Yayınevi TEXT , Sayfa_Sayısı INT) * - Bu sorgu tablo yoksa oluşturacak, tablo varsa hata vermeyecektir. Kodlarımız şu şekilde;\n"
   ]
  },
  {
   "cell_type": "markdown",
   "metadata": {},
   "source": [
    "## Veri Ekleme\n",
    "\n",
    "INSERT INTO kitaplık VALUES('İstanbul Hatırası','Ahmet Ümit','Everest',561)\n",
    "\n",
    "Not : SQL Sorguları büyük veya küçük harfle de yazılabilir. Örnek olarak\n",
    "\n",
    "insert into kitaplık values ('İstanbul Hatırası','Ahmet Ümit','Everest',561)"
   ]
  },
  {
   "cell_type": "markdown",
   "metadata": {},
   "source": [
    "## Tablodaki Verileri Çekme\n",
    "\n",
    "Önceki derslerimizde Tablo oluşturmayı ve Tabloya veri eklemeyi öğrenmiştik. Bu derste de tablodaki verileri nasıl çekeceğimizi öğrenmeye çalışacağız. Tablodan veri çekmek için şu SQL sorgularını kullanacağız.\n",
    "\n",
    "Select * From kitaplık - Tablodaki tüm bilgileri almamızı sağlar.\n",
    "\n",
    "Select İsim,Yazar From kitaplık Tablodaki tüm bilgileri sadece İsim ve Yazar özelliklerini almamızı sağlar.\n",
    "\n",
    "Select * From kitaplık where Yayınevi = 'Everest' Sadece Yayınevi özelliği Everest olanları alır.\n",
    "\n",
    "Şimdi isterseniz ilk sorgumuzu çalıştırdığımız kodumuzu yazalım.\n"
   ]
  },
  {
   "cell_type": "markdown",
   "metadata": {},
   "source": [
    "# Tablodaki Verileri Güncelleme ve Silme\n",
    "\n",
    "Bu derste Sqlite veritabanı ile ilgili son olarak verileri güncellemeyi ve silmeyi öğreneceğiz.\n",
    "\n",
    "### Verileri Güncelleme\n",
    "\n",
    "Tablodaki verileri güncelleme için şöyle bir sorgu kullanabiliriz.\n",
    "\n",
    "*** Update kitaplık set Yayınevi = 'Everest' where Yayınevi = 'Doğan Kitap' --  Yayınevi 'Doğan Kitap' olan kitapların Yayınevi bilgilerini 'Everest' e günceller.***\n",
    "\n",
    "Şimdi isterseniz bu sorguyu çalıştırdığımız kodumuzu yazalım.\n",
    "\n",
    "### Verileri Silme\n",
    "\n",
    "Tablodaki verileri silme için şöyle bir sorgu kullanabiliriz.\n",
    "\n",
    "*** Delete From kitaplık where Yazar = 'Ahmet Ümit' -- Yazar özelliği 'Ahmet Ümit' olan kitapları tablodan siler.***\n",
    "\n",
    "Şimdi isterseniz bu sorguyu çalıştırdığımız kodumuzu yazalım."
   ]
  },
  {
   "cell_type": "code",
   "execution_count": 1,
   "metadata": {},
   "outputs": [],
   "source": [
    "import sqlite3\n",
    "database=sqlite3.connect(\"data.db\")\n",
    "imlec=database.cursor()\n",
    "database.close()"
   ]
  },
  {
   "cell_type": "code",
   "execution_count": 2,
   "metadata": {},
   "outputs": [],
   "source": [
    "import sqlite3\n",
    "database=sqlite3.connect(\"data.db\")\n",
    "imlec=database.cursor()\n",
    "def tabloOlustur():\n",
    "    imlec.execute(\"CREATE TABLE IF NOT EXISTS kitaplik(Isim TEXT, Yazar TEXT, Yayinevi TEXT, SayfaSayisi INT)\")\n",
    "    database.commit()\n",
    "tabloOlustur()\n",
    "database.close()\n"
   ]
  },
  {
   "cell_type": "code",
   "execution_count": 3,
   "metadata": {},
   "outputs": [
    {
     "name": "stdout",
     "output_type": "stream",
     "text": [
      "Silinecek yazarı girin:Burcu\n"
     ]
    }
   ],
   "source": [
    "import sqlite3\n",
    "database=sqlite3.connect(\"data.db\")\n",
    "imlec=database.cursor()\n",
    "def tabloOlustur():\n",
    "    imlec.execute(\"CREATE TABLE IF NOT EXISTS kitaplik(Isim TEXT, Yazar TEXT, Yayinevi TEXT, SayfaSayisi INT)\")\n",
    "    database.commit()\n",
    "def degerEkle(isim,yazar,yayinevi,sayfaSayisi):\n",
    "    imlec.execute(\"INSERT INTO kitaplik VALUES(?,?,?,?)\",(isim,yazar,yayinevi,sayfaSayisi))\n",
    "    database.commit()\n",
    "def tumVerileriAl():\n",
    "    imlec.execute(\"Select * From kitaplik\")\n",
    "    data=imlec.fetchall()\n",
    "    print(\"Kitaplık Tablosu Bilgileri:\")\n",
    "    for i in data:\n",
    "        print(i)\n",
    "def isimYazar():\n",
    "    imlec.execute(\"Select Isim,Yazar From kitaplik\")\n",
    "    data=imlec.fetchall()\n",
    "    print(\"İsim ve Yazar Bilgileri:\")\n",
    "    for i in data:\n",
    "        print(i)\n",
    "def yayineviGetir(yayinevi):\n",
    "    imlec.execute(\"Select * From kitaplik where Yayinevi = ?\",(yayinevi,))\n",
    "    data=imlec.fetchall()\n",
    "    print(\"Yayınevine göre tablo bilgileri:\")\n",
    "    for i in data:\n",
    "        print(i)\n",
    "def veriGuncelle(onceki,sonraki):\n",
    "    imlec.execute(\"Update kitaplik set Yayinevi = ? where Yayinevi = ?\",(sonraki,onceki))\n",
    "    database.commit()\n",
    "def veriSil(yazar):\n",
    "    imlec.execute(\"Delete From kitaplik where Yazar = ?\",(yazar,))\n",
    "    database.commit()\n",
    "# isim=input(\"İsim:\")\n",
    "# yazar=input(\"Yazar:\")\n",
    "# yayinevi=input(\"Yayınevi:\")\n",
    "# sayfaSayisi=int(input(\"Sayfa Sayısı:\"))\n",
    "# tabloOlustur()\n",
    "# degerEkle(isim,yazar,yayinevi,sayfaSayisi)\n",
    "# tumVerileriAl()\n",
    "# isimYazar()\n",
    "# yayineviGetir('BEM')\n",
    "veriGuncelle('BEM','Everest')\n",
    "silinecekYazar=input(\"Silinecek yazarı girin:\")\n",
    "veriSil(silinecekYazar)\n",
    "database.close()"
   ]
  },
  {
   "cell_type": "code",
   "execution_count": null,
   "metadata": {},
   "outputs": [],
   "source": []
  }
 ],
 "metadata": {
  "kernelspec": {
   "display_name": "Python 3",
   "language": "python",
   "name": "python3"
  },
  "language_info": {
   "codemirror_mode": {
    "name": "ipython",
    "version": 3
   },
   "file_extension": ".py",
   "mimetype": "text/x-python",
   "name": "python",
   "nbconvert_exporter": "python",
   "pygments_lexer": "ipython3",
   "version": "3.8.5"
  }
 },
 "nbformat": 4,
 "nbformat_minor": 4
}
