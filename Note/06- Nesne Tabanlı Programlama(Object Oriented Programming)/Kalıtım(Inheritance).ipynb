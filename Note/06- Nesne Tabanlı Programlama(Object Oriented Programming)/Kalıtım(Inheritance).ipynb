{
 "cells": [
  {
   "cell_type": "markdown",
   "metadata": {},
   "source": [
    "# Kalıtım(Inheritance)"
   ]
  },
  {
   "cell_type": "code",
   "execution_count": 1,
   "metadata": {},
   "outputs": [],
   "source": [
    "class Calisan():\n",
    "    def __init__(self,isim,maas,departman):\n",
    "        print(\"Çalışan sınıfının init fonksiyonu çalıştı\")\n",
    "        self.isim=isim\n",
    "        self.maas=maas\n",
    "        self.departman=departman\n",
    "    def bilgileriGoster(self):\n",
    "        print(\"\"\"\n",
    "        Çalışan Bilgisi:\n",
    "        İsim: {}\n",
    "        Maaş: {}\n",
    "        Departman: {}\n",
    "        \"\"\".format(self.isim,self.maas,self.departman))\n",
    "    def departmanDegis(self,yeniDepartman):\n",
    "        print(\"Departman Değiştiriliyor...\")\n",
    "        self.departman=yeniDepartman"
   ]
  },
  {
   "cell_type": "code",
   "execution_count": 10,
   "metadata": {},
   "outputs": [],
   "source": [
    "class Yonetici(Calisan):\n",
    "    pass"
   ]
  },
  {
   "cell_type": "code",
   "execution_count": 4,
   "metadata": {},
   "outputs": [
    {
     "name": "stdout",
     "output_type": "stream",
     "text": [
      "Çalışan sınıfının init fonksiyonu çalıştı\n"
     ]
    }
   ],
   "source": [
    "yonetici1=Yonetici(\"Varol Maksutoğlu\",30000,\"Bilişim\")"
   ]
  },
  {
   "cell_type": "code",
   "execution_count": 5,
   "metadata": {},
   "outputs": [
    {
     "name": "stdout",
     "output_type": "stream",
     "text": [
      "\n",
      "        Çalışan Bilgisi:\n",
      "        İsim: Varol Maksutoğlu\n",
      "        Maaş: 30000\n",
      "        Departman: Bilişim\n",
      "        \n"
     ]
    }
   ],
   "source": [
    "yonetici1.bilgileriGoster()"
   ]
  },
  {
   "cell_type": "code",
   "execution_count": 6,
   "metadata": {},
   "outputs": [
    {
     "name": "stdout",
     "output_type": "stream",
     "text": [
      "Departman Değiştiriliyor...\n"
     ]
    }
   ],
   "source": [
    "yonetici1.departmanDegis(\"E-Ticaret\")"
   ]
  },
  {
   "cell_type": "code",
   "execution_count": 7,
   "metadata": {},
   "outputs": [
    {
     "name": "stdout",
     "output_type": "stream",
     "text": [
      "\n",
      "        Çalışan Bilgisi:\n",
      "        İsim: Varol Maksutoğlu\n",
      "        Maaş: 30000\n",
      "        Departman: E-Ticaret\n",
      "        \n"
     ]
    }
   ],
   "source": [
    "yonetici1.bilgileriGoster()"
   ]
  },
  {
   "cell_type": "code",
   "execution_count": 8,
   "metadata": {},
   "outputs": [
    {
     "data": {
      "text/plain": [
       "['__class__',\n",
       " '__delattr__',\n",
       " '__dict__',\n",
       " '__dir__',\n",
       " '__doc__',\n",
       " '__eq__',\n",
       " '__format__',\n",
       " '__ge__',\n",
       " '__getattribute__',\n",
       " '__gt__',\n",
       " '__hash__',\n",
       " '__init__',\n",
       " '__init_subclass__',\n",
       " '__le__',\n",
       " '__lt__',\n",
       " '__module__',\n",
       " '__ne__',\n",
       " '__new__',\n",
       " '__reduce__',\n",
       " '__reduce_ex__',\n",
       " '__repr__',\n",
       " '__setattr__',\n",
       " '__sizeof__',\n",
       " '__str__',\n",
       " '__subclasshook__',\n",
       " '__weakref__',\n",
       " 'bilgileriGoster',\n",
       " 'departman',\n",
       " 'departmanDegis',\n",
       " 'isim',\n",
       " 'maas']"
      ]
     },
     "execution_count": 8,
     "metadata": {},
     "output_type": "execute_result"
    }
   ],
   "source": [
    "dir(yonetici1)"
   ]
  },
  {
   "cell_type": "markdown",
   "metadata": {},
   "source": [
    "# Overriding(Ezme, İptal Etme)"
   ]
  },
  {
   "cell_type": "code",
   "execution_count": 11,
   "metadata": {},
   "outputs": [],
   "source": [
    "class Calisan():\n",
    "    def __init__(self,isim,maas,departman):\n",
    "        print(\"Çalışan sınıfının init fonksiyonu çalıştı\")\n",
    "        self.isim=isim\n",
    "        self.maas=maas\n",
    "        self.departman=departman\n",
    "    def bilgileriGoster(self):\n",
    "        print(\"\"\"\n",
    "        Çalışan Bilgisi:\n",
    "        İsim: {}\n",
    "        Maaş: {}\n",
    "        Departman: {}\n",
    "        \"\"\".format(self.isim,self.maas,self.departman))\n",
    "    def departmanDegis(self,yeniDepartman):\n",
    "        print(\"Departman Değiştiriliyor...\")\n",
    "        self.departman=yeniDepartman"
   ]
  },
  {
   "cell_type": "code",
   "execution_count": 16,
   "metadata": {},
   "outputs": [],
   "source": [
    "class Yonetici(Calisan):\n",
    "    def __init__(self,isim,maas,departman,kisiSayisi):\n",
    "        print(\"Yönetici sınıfının init fonksiyonu çalıştı\")\n",
    "        self.isim=isim\n",
    "        self.maas=maas\n",
    "        self.departman=departman\n",
    "        self.kisiSayısı=kisiSayisi\n",
    "    def bilgileriGoster(self):\n",
    "        print(\"\"\"\n",
    "        Çalışan Bilgisi:\n",
    "        İsim: {}\n",
    "        Maaş: {}\n",
    "        Departman: {}\n",
    "        Kişi Sayısı: {}\n",
    "        \"\"\".format(self.isim,self.maas,self.departman,self.kisiSayısı))\n",
    "    def zamYap(self,zamMiktari):\n",
    "        print(\"Zam Yapılıyor...\")\n",
    "        self.maas+=zamMiktari"
   ]
  },
  {
   "cell_type": "code",
   "execution_count": 17,
   "metadata": {},
   "outputs": [
    {
     "name": "stdout",
     "output_type": "stream",
     "text": [
      "Yönetici sınıfının init fonksiyonu çalıştı\n"
     ]
    }
   ],
   "source": [
    "yonetici2=Yonetici(\"Varol Maksutoğlu\",30000,\"Bilişim\",20)"
   ]
  },
  {
   "cell_type": "code",
   "execution_count": 18,
   "metadata": {},
   "outputs": [
    {
     "name": "stdout",
     "output_type": "stream",
     "text": [
      "Zam Yapılıyor...\n"
     ]
    }
   ],
   "source": [
    "yonetici2.zamYap(500)"
   ]
  },
  {
   "cell_type": "code",
   "execution_count": 19,
   "metadata": {},
   "outputs": [
    {
     "name": "stdout",
     "output_type": "stream",
     "text": [
      "\n",
      "        Çalışan Bilgisi:\n",
      "        İsim: Varol Maksutoğlu\n",
      "        Maaş: 30500\n",
      "        Departman: Bilişim\n",
      "        Kişi Sayısı: 20\n",
      "        \n"
     ]
    }
   ],
   "source": [
    "yonetici2.bilgileriGoster()"
   ]
  },
  {
   "cell_type": "markdown",
   "metadata": {},
   "source": [
    "# super Anahtar Kelimesi"
   ]
  },
  {
   "cell_type": "code",
   "execution_count": 1,
   "metadata": {},
   "outputs": [],
   "source": [
    "class Calisan():\n",
    "    def __init__(self,isim,maas,departman):\n",
    "        print(\"Çalışan sınıfının init fonksiyonu\")\n",
    "        self.isim = isim\n",
    "        self.maas = maas\n",
    "        self.departman = departman\n",
    "    def bilgileriGoster(self):\n",
    "        print(\"Çalışan sınıfının bilgileri.....\")\n",
    "        print(\"İsim : {} \\nMaaş: {} \\nDepartman: {}\\n\".format(self.isim,self.maas,self.departman))\n",
    "    def departmanDegistir(self,yeniDepartman):\n",
    "        print(\"Departman değişiyor....\")\n",
    "        self.departman = yeniDepartman"
   ]
  },
  {
   "cell_type": "code",
   "execution_count": 2,
   "metadata": {},
   "outputs": [],
   "source": [
    "class Yonetici(Calisan):\n",
    "    \n",
    "    def __init__(self,isim,maas,departman,kişi_sayısı): # Sorumlu olduğu kişi sayısı\n",
    "        super().__init__(isim,maas,departman) # 3 tane özelliği Çalışan fonksiyonunun init fonksiyonuyla hallediyoruz.\n",
    "        print(\"Yönetici sınıfının init fonksiyonu\")\n",
    "        self.kişi_sayısı = kişi_sayısı # Ekstra özelliği de kendimiz yazıyoruz.\n",
    "    def bilgileriGoster(self):\n",
    "        print(\"Yönetici sınıfının bilgileri.....\")\n",
    "        print(\"İsim : {} \\nMaaş: {} \\nDepartman: {}\\nSorumlu kişi sayısı: {}\".format(self.isim,self.maas,self.departman,self.kişi_sayısı))\n",
    "    def zamYap(self,zamMiktarı):\n",
    "        print(\"Maaşa zam yapılıyor....\")\n",
    "        self.maas += zamMiktarı"
   ]
  },
  {
   "cell_type": "code",
   "execution_count": 3,
   "metadata": {},
   "outputs": [
    {
     "name": "stdout",
     "output_type": "stream",
     "text": [
      "Çalışan sınıfının init fonksiyonu\n",
      "Yönetici sınıfının init fonksiyonu\n"
     ]
    }
   ],
   "source": [
    "yonetici2=Yonetici(\"Varol Maksutoğlu\",30000,\"Bilişim\",20)"
   ]
  },
  {
   "cell_type": "code",
   "execution_count": 4,
   "metadata": {},
   "outputs": [
    {
     "name": "stdout",
     "output_type": "stream",
     "text": [
      "Yönetici sınıfının bilgileri.....\n",
      "İsim : Varol Maksutoğlu \n",
      "Maaş: 30000 \n",
      "Departman: Bilişim\n",
      "Sorumlu kişi sayısı: 20\n"
     ]
    }
   ],
   "source": [
    "yonetici2.bilgileriGoster()"
   ]
  },
  {
   "cell_type": "code",
   "execution_count": null,
   "metadata": {},
   "outputs": [],
   "source": []
  }
 ],
 "metadata": {
  "kernelspec": {
   "display_name": "Python 3",
   "language": "python",
   "name": "python3"
  },
  "language_info": {
   "codemirror_mode": {
    "name": "ipython",
    "version": 3
   },
   "file_extension": ".py",
   "mimetype": "text/x-python",
   "name": "python",
   "nbconvert_exporter": "python",
   "pygments_lexer": "ipython3",
   "version": "3.8.5"
  }
 },
 "nbformat": 4,
 "nbformat_minor": 4
}
