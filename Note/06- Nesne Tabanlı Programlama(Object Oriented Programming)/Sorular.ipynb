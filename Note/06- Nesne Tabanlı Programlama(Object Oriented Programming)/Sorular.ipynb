{
 "cells": [
  {
   "cell_type": "markdown",
   "metadata": {},
   "source": [
    "# Soru 1"
   ]
  },
  {
   "cell_type": "markdown",
   "metadata": {},
   "source": [
    "Kalıtım notunun sonundaki uygulamadaki hatayı çözmeye çalışalım."
   ]
  },
  {
   "cell_type": "markdown",
   "metadata": {},
   "source": [
    "# Soru 2"
   ]
  },
  {
   "cell_type": "markdown",
   "metadata": {},
   "source": [
    "Bir sınıf oluşturalım, mesal adı Bilgisayar olsun. Bu sınıfa ait özellikler ve metodlar olsun. Bu sınıfı kullanarak obje oluşturalım."
   ]
  },
  {
   "cell_type": "markdown",
   "metadata": {},
   "source": [
    "# Soru 3"
   ]
  },
  {
   "cell_type": "markdown",
   "metadata": {},
   "source": [
    "4 tane sınıfımız olsun.\n",
    "\n",
    "*Hayvan Sınıfı ------> Bütün hayvanların ortak olan özelliklerinin toplandığı sınıf*\n",
    "\n",
    "*Kopek Sınıfı ------> Bu sınıf Hayvan sınıfını miras alsın. Ayrıca köpeklere ait ek özellikler ve metodlar olsun.* \n",
    "\n",
    "*Kus Sınıfı ------> Bu sınıf Hayvan sınıfını miras alsın. Ayrıca kuşlara ait ek özellikler ve metodlar olsun.*\n",
    "\n",
    "*At Sınıfı ------> Bu sınıf Hayvan sınıfını miras alsın. Ayrıca atlara ait ek özellikler ve metodlar olsun.*\n",
    "\n",
    "\n",
    "*Bu sınıflardan kullanıcının seçimine göre objeler oluşturalım, İçerecekleri bilgileri de yine kullanıcı girsin.*"
   ]
  },
  {
   "cell_type": "code",
   "execution_count": null,
   "metadata": {},
   "outputs": [],
   "source": []
  }
 ],
 "metadata": {
  "kernelspec": {
   "display_name": "Python 3",
   "language": "python",
   "name": "python3"
  },
  "language_info": {
   "codemirror_mode": {
    "name": "ipython",
    "version": 3
   },
   "file_extension": ".py",
   "mimetype": "text/x-python",
   "name": "python",
   "nbconvert_exporter": "python",
   "pygments_lexer": "ipython3",
   "version": "3.8.5"
  }
 },
 "nbformat": 4,
 "nbformat_minor": 4
}
