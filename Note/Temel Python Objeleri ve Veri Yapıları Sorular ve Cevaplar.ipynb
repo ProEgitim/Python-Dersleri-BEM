{
 "cells": [
  {
   "cell_type": "markdown",
   "metadata": {},
   "source": [
    "Kullanıcıdan aldığınız 3 tane sayının çarpımın yazdıran programı yazın. Not: Yazdırırken tek print komutu kullanın, format metodunu kullanın."
   ]
  },
  {
   "cell_type": "code",
   "execution_count": 1,
   "metadata": {},
   "outputs": [
    {
     "name": "stdout",
     "output_type": "stream",
     "text": [
      "a:3\n",
      "b:5\n",
      "c:2\n",
      "3x5x2=30\n"
     ]
    }
   ],
   "source": [
    "a=int(input(\"a:\"))\n",
    "b=int(input(\"b:\"))\n",
    "c=int(input(\"c:\")) \n",
    "sonuc=a*b*c\n",
    "print(\"{}x{}x{}={}\".format(a,b,c,sonuc))"
   ]
  },
  {
   "cell_type": "markdown",
   "metadata": {},
   "source": [
    "# Soru 2"
   ]
  },
  {
   "cell_type": "markdown",
   "metadata": {},
   "source": [
    "Kullanıcıdan aldığınız boy ve kilo değerlerine göre beden kitle indeksini bulun. BDI=Kilo/Boy*Boy"
   ]
  },
  {
   "cell_type": "code",
   "execution_count": 2,
   "metadata": {},
   "outputs": [
    {
     "name": "stdout",
     "output_type": "stream",
     "text": [
      "boy:1.82\n",
      "kilo:80\n",
      "beden kitle indeksiniz: 24.151672503320853\n"
     ]
    }
   ],
   "source": [
    "boy=float(input(\"boy:\"))\n",
    "kilo=int(input(\"kilo:\"))\n",
    "print(\"beden kitle indeksiniz:\",kilo/(boy**2))"
   ]
  },
  {
   "cell_type": "markdown",
   "metadata": {},
   "source": [
    "# Soru 3"
   ]
  },
  {
   "cell_type": "markdown",
   "metadata": {},
   "source": [
    "Kullanıcıdan iki tane sayı alın ve bu sayıların değerlerini birbirleri ile değiştirin. Ekrana yazdırın (Eski hallerini ve Yani hallerini)"
   ]
  },
  {
   "cell_type": "code",
   "execution_count": 4,
   "metadata": {},
   "outputs": [
    {
     "name": "stdout",
     "output_type": "stream",
     "text": [
      "a:3\n",
      "b:5\n",
      "ilk sayı   : 5\n",
      "ikinci sayı: 3\n"
     ]
    }
   ],
   "source": [
    "a= int(input(\"a:\"))\n",
    "b=int(input(\"b:\"))\n",
    "a ,b =b , a\n",
    "print('ilk sayı   : {}'.format(a))\n",
    "print('ikinci sayı: {}'.format(b))"
   ]
  },
  {
   "cell_type": "markdown",
   "metadata": {},
   "source": [
    "# Soru 4"
   ]
  },
  {
   "cell_type": "markdown",
   "metadata": {},
   "source": [
    "Bir aracın kilometrede ne kadar yaktığı ve kaç kilometre yol yaptığı bilgilerini alın ve sürücünü toplam ne kadar ödemesini gerektiğini hesaplayın."
   ]
  },
  {
   "cell_type": "markdown",
   "metadata": {},
   "source": [
    "# Soru 5"
   ]
  },
  {
   "cell_type": "markdown",
   "metadata": {},
   "source": [
    "Kullanıcıdan ad,soyad ve numara bilgisini alarak bunları alt alta ekrana yazdırın."
   ]
  },
  {
   "cell_type": "markdown",
   "metadata": {},
   "source": [
    "# Soru 6"
   ]
  },
  {
   "cell_type": "markdown",
   "metadata": {},
   "source": [
    "Kullanıcıdan bir dik üçgenin dik olan iki kenarını(a,b) alın ve hipotenüs uzunluğunu bulmaya çalışın.\n",
    "\n",
    "Hipotenüs Formülü: a^2 + b^2 = c^2 \n"
   ]
  },
  {
   "cell_type": "markdown",
   "metadata": {},
   "source": [
    "# Soru 7"
   ]
  },
  {
   "cell_type": "markdown",
   "metadata": {},
   "source": [
    "list1 = [10, 20, [300, 400, [5000, 6000], 500], 30, 40] Bu listenin içinde kaç eleman vardır?"
   ]
  },
  {
   "cell_type": "code",
   "execution_count": 1,
   "metadata": {},
   "outputs": [],
   "source": [
    "list1 = [10, 20, [300, 400, [5000, 6000], 500], 30, 40]"
   ]
  },
  {
   "cell_type": "code",
   "execution_count": 2,
   "metadata": {},
   "outputs": [
    {
     "data": {
      "text/plain": [
       "5"
      ]
     },
     "execution_count": 2,
     "metadata": {},
     "output_type": "execute_result"
    }
   ],
   "source": [
    "len(list1)"
   ]
  },
  {
   "cell_type": "markdown",
   "metadata": {},
   "source": [
    "# Soru 8"
   ]
  },
  {
   "cell_type": "markdown",
   "metadata": {},
   "source": [
    "Girilen vize ve final notlarının ortalamasını bulan programı yazın (vize=%30, final=%70)"
   ]
  },
  {
   "cell_type": "markdown",
   "metadata": {},
   "source": [
    "# Soru 9"
   ]
  },
  {
   "cell_type": "markdown",
   "metadata": {},
   "source": [
    "Girilen 3 Yazılı Notunun Ortalamasını Bulan Python programını yazın."
   ]
  },
  {
   "cell_type": "markdown",
   "metadata": {},
   "source": [
    "# Soru 10"
   ]
  },
  {
   "cell_type": "markdown",
   "metadata": {},
   "source": [
    "Kullanıcının girdiği key:value girdilerine göre bir sözlük programı oluşturun. (Erdogan-Canbay)"
   ]
  },
  {
   "cell_type": "markdown",
   "metadata": {},
   "source": [
    "# Soru 11"
   ]
  },
  {
   "cell_type": "markdown",
   "metadata": {},
   "source": [
    "Kullanıcı tarafından yarı çapı girilen dairenin alanını ve çevresini hesaplayan bir algoritma oluşturalım. (Burcu-Willow)\n"
   ]
  },
  {
   "cell_type": "markdown",
   "metadata": {},
   "source": [
    "#  Soru 12 "
   ]
  },
  {
   "cell_type": "markdown",
   "metadata": {},
   "source": [
    "Kenarları girilen Dikdörtgenin cevresini ve alanını yazınız. "
   ]
  },
  {
   "cell_type": "markdown",
   "metadata": {},
   "source": [
    "# Soru 13"
   ]
  },
  {
   "cell_type": "markdown",
   "metadata": {},
   "source": [
    "Kullanıcıdan alınan iki sayı ile yine kullanıcının seçtiği işlemi yapacak hesap makinası programını yazınız."
   ]
  },
  {
   "cell_type": "markdown",
   "metadata": {},
   "source": [
    "# soru 14\n",
    "\n"
   ]
  },
  {
   "cell_type": "markdown",
   "metadata": {},
   "source": [
    "Klavyeden 4 kenarı girilen bilginin kare mi yoksa dikdörtgen mi olduğunu bulan program yazınız.---Eren Özdemir"
   ]
  },
  {
   "cell_type": "markdown",
   "metadata": {},
   "source": [
    "# soru 15\n",
    "\n",
    "Girilen 5 sayıdan en büyüğünü gösteren  programı yazınız.---Eren Özdemir"
   ]
  }
 ],
 "metadata": {
  "kernelspec": {
   "display_name": "Python 3",
   "language": "python",
   "name": "python3"
  },
  "language_info": {
   "codemirror_mode": {
    "name": "ipython",
    "version": 3
   },
   "file_extension": ".py",
   "mimetype": "text/x-python",
   "name": "python",
   "nbconvert_exporter": "python",
   "pygments_lexer": "ipython3",
   "version": "3.8.5"
  }
 },
 "nbformat": 4,
 "nbformat_minor": 4
}
