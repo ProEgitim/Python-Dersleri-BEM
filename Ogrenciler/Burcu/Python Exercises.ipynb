{
 "cells": [
  {
   "cell_type": "code",
   "execution_count": 3,
   "metadata": {},
   "outputs": [
    {
     "name": "stdout",
     "output_type": "stream",
     "text": [
      "Python programlama dilinin adı 'piton' yılanından gelmez\n"
     ]
    }
   ],
   "source": [
    "print(\"Python programlama dilinin adı 'piton' yılanından gelmez\")"
   ]
  },
  {
   "cell_type": "code",
   "execution_count": 4,
   "metadata": {},
   "outputs": [
    {
     "data": {
      "text/plain": [
       "' Programa Hoşgeldiniz! |\\n| Sürüm 0.8 |\\n| Devam etmek için herhangi |\\n| bir düğmeye basın.'"
      ]
     },
     "execution_count": 4,
     "metadata": {},
     "output_type": "execute_result"
    }
   ],
   "source": [
    "\"\"\" Programa Hoşgeldiniz! |\n",
    "| Sürüm 0.8 |\n",
    "| Devam etmek için herhangi |\n",
    "| bir düğmeye basın.\"\"\""
   ]
  },
  {
   "cell_type": "code",
   "execution_count": 5,
   "metadata": {},
   "outputs": [
    {
     "name": "stdout",
     "output_type": "stream",
     "text": [
      "Programa Hoşgeldiniz! |\n",
      "| Sürüm 0.8 |\n",
      "| Devam etmek için herhangi |\n",
      "| bir düğmeye basın.\n"
     ]
    }
   ],
   "source": [
    "print(\"\"\"Programa Hoşgeldiniz! |\n",
    "| Sürüm 0.8 |\n",
    "| Devam etmek için herhangi |\n",
    "| bir düğmeye basın.\"\"\")\n"
   ]
  },
  {
   "cell_type": "code",
   "execution_count": 7,
   "metadata": {},
   "outputs": [
    {
     "name": "stdout",
     "output_type": "stream",
     "text": [
      "Game Over! \n"
     ]
    }
   ],
   "source": [
    "print(\"\"\"Game Over! \"\"\")"
   ]
  },
  {
   "cell_type": "code",
   "execution_count": 8,
   "metadata": {},
   "outputs": [],
   "source": [
    "python_hakkinda = \"\"\"Python programlama dili Guido Van Rossum\n",
    "... adlı Hollandalı bir programcı tarafından 90’lı\n",
    "... yılların başında geliştirilmeye başlanmıştır. Çoğu\n",
    "... insan, isminin \"Python\" olmasına bakarak, bu programlama\n",
    "... dilinin, adını piton yılanından aldığını düşünür.\n",
    "... Ancak zannedildiğinin aksine bu programlama dilinin\n",
    "... adı piton yılanından gelmez.\"\"\""
   ]
  },
  {
   "cell_type": "code",
   "execution_count": 9,
   "metadata": {},
   "outputs": [
    {
     "name": "stdout",
     "output_type": "stream",
     "text": [
      "Python programlama dili Guido Van Rossum\n",
      "adlı Hollandalı bir programcı tarafından 90’lı\n",
      "yılların başında geliştirilmeye başlanmıştır. Çoğu\n",
      "insan, isminin \"Python\" olmasına bakarak, bu programlama\n",
      "dilinin, adını piton yılanından aldığını düşünür.\n",
      "Ancak zannedildiğinin aksine bu programlama dilinin\n",
      "adı piton yılanından gelmez.\n"
     ]
    }
   ],
   "source": [
    "print(python_hakkinda)"
   ]
  },
  {
   "cell_type": "code",
   "execution_count": 10,
   "metadata": {},
   "outputs": [
    {
     "data": {
      "text/plain": [
       "326"
      ]
     },
     "execution_count": 10,
     "metadata": {},
     "output_type": "execute_result"
    }
   ],
   "source": [
    "len(python_hakkinda)"
   ]
  },
  {
   "cell_type": "code",
   "execution_count": 19,
   "metadata": {},
   "outputs": [
    {
     "name": "stdout",
     "output_type": "stream",
     "text": [
      "http terminator .com\n"
     ]
    }
   ],
   "source": [
    "print(\"http\",\"terminator\",\".com\")"
   ]
  },
  {
   "cell_type": "code",
   "execution_count": 20,
   "metadata": {},
   "outputs": [
    {
     "name": "stdout",
     "output_type": "stream",
     "text": [
      "bir mumdur iki mumdur üç mumdur dört mumdur on dört\n"
     ]
    }
   ],
   "source": [
    "print(\"bir\", \"iki\", \"üç\", \"dört\", \"on dört\", sep=\" \" + \"mumdur\" + \" \")"
   ]
  },
  {
   "cell_type": "code",
   "execution_count": 22,
   "metadata": {},
   "outputs": [
    {
     "name": "stdout",
     "output_type": "stream",
     "text": [
      "1 2 3 4 5\n"
     ]
    }
   ],
   "source": [
    "print(1, 2, 3, 4, 5, sep=None)"
   ]
  },
  {
   "cell_type": "code",
   "execution_count": 23,
   "metadata": {},
   "outputs": [
    {
     "name": "stdout",
     "output_type": "stream",
     "text": [
      "birinci satır\n",
      "ikinci satır\n",
      "üçüncü satır\n"
     ]
    }
   ],
   "source": [
    "print(\"birinci satır\\nikinci satır\\nüçüncü satır\")"
   ]
  },
  {
   "cell_type": "code",
   "execution_count": 27,
   "metadata": {},
   "outputs": [
    {
     "name": "stdout",
     "output_type": "stream",
     "text": [
      "Bugün günlerden Salı mı?"
     ]
    }
   ],
   "source": [
    "print(\"Bugün günlerden Salı mı\", end=\"?\")"
   ]
  },
  {
   "cell_type": "code",
   "execution_count": 31,
   "metadata": {},
   "outputs": [],
   "source": [
    "dosya = open(\"deneme.txt\", \"w\")\n",
    "print(\"Ben Python, Monty Python!\", file=dosya)\n",
    "dosya.close()"
   ]
  },
  {
   "cell_type": "code",
   "execution_count": 1,
   "metadata": {},
   "outputs": [
    {
     "name": "stdout",
     "output_type": "stream",
     "text": [
      "yaşamak güzel bir şeydir sanırım..."
     ]
    }
   ],
   "source": [
    "print(\"yaşamak güzel bir şeydir sanırım\", end=\"...\")"
   ]
  },
  {
   "cell_type": "code",
   "execution_count": 2,
   "metadata": {},
   "outputs": [
    {
     "name": "stdout",
     "output_type": "stream",
     "text": [
      "'hey', 'sen'none"
     ]
    }
   ],
   "source": [
    "print(\"'hey', 'sen'\", end=\"none\")"
   ]
  },
  {
   "cell_type": "code",
   "execution_count": 3,
   "metadata": {},
   "outputs": [
    {
     "name": "stdout",
     "output_type": "stream",
     "text": [
      "'hey', 'sen'None"
     ]
    }
   ],
   "source": [
    "print(\"'hey', 'sen'\", end=\"None\")"
   ]
  },
  {
   "cell_type": "code",
   "execution_count": 5,
   "metadata": {},
   "outputs": [
    {
     "name": "stdout",
     "output_type": "stream",
     "text": [
      "hey sen\n"
     ]
    }
   ],
   "source": [
    "print('hey', 'sen', end=None)"
   ]
  },
  {
   "cell_type": "code",
   "execution_count": 6,
   "metadata": {},
   "outputs": [
    {
     "name": "stdout",
     "output_type": "stream",
     "text": [
      "F O M O\n"
     ]
    }
   ],
   "source": [
    "print(*\"FOMO\")"
   ]
  },
  {
   "cell_type": "code",
   "execution_count": 7,
   "metadata": {},
   "outputs": [
    {
     "name": "stdout",
     "output_type": "stream",
     "text": [
      "F.O.M.O\n"
     ]
    }
   ],
   "source": [
    "print(*\"FOMO\", sep=\".\")"
   ]
  },
  {
   "cell_type": "code",
   "execution_count": 8,
   "metadata": {},
   "outputs": [
    {
     "data": {
      "text/plain": [
       "4"
      ]
     },
     "execution_count": 8,
     "metadata": {},
     "output_type": "execute_result"
    }
   ],
   "source": [
    "len(\"FOMO\")"
   ]
  },
  {
   "cell_type": "code",
   "execution_count": 9,
   "metadata": {},
   "outputs": [
    {
     "ename": "TypeError",
     "evalue": "len() takes exactly one argument (4 given)",
     "output_type": "error",
     "traceback": [
      "\u001b[1;31m---------------------------------------------------------------------------\u001b[0m",
      "\u001b[1;31mTypeError\u001b[0m                                 Traceback (most recent call last)",
      "\u001b[1;32m<ipython-input-9-be2afc8cd8bd>\u001b[0m in \u001b[0;36m<module>\u001b[1;34m\u001b[0m\n\u001b[1;32m----> 1\u001b[1;33m \u001b[0mlen\u001b[0m\u001b[1;33m(\u001b[0m\u001b[1;33m*\u001b[0m\u001b[1;34m\"FOMO\"\u001b[0m\u001b[1;33m)\u001b[0m\u001b[1;33m\u001b[0m\u001b[1;33m\u001b[0m\u001b[0m\n\u001b[0m",
      "\u001b[1;31mTypeError\u001b[0m: len() takes exactly one argument (4 given)"
     ]
    }
   ],
   "source": [
    "len(*\"FOMO\")"
   ]
  },
  {
   "cell_type": "code",
   "execution_count": 11,
   "metadata": {},
   "outputs": [
    {
     "data": {
      "text/plain": [
       "str"
      ]
     },
     "execution_count": 11,
     "metadata": {},
     "output_type": "execute_result"
    }
   ],
   "source": [
    "type(\"FOMO\")"
   ]
  },
  {
   "cell_type": "code",
   "execution_count": 20,
   "metadata": {},
   "outputs": [
    {
     "name": "stdout",
     "output_type": "stream",
     "text": [
      "We can meet 27.05.21 Thursday afternoon\n"
     ]
    }
   ],
   "source": [
    "date=\"27.05.21\"\n",
    "day=\"Thursday\"\n",
    "time=\"afternoon\"\n",
    "\n",
    "print(\"We can meet\", date, day, time, )"
   ]
  },
  {
   "cell_type": "code",
   "execution_count": null,
   "metadata": {},
   "outputs": [],
   "source": [
    "a=input(\"name:\")\n",
    "b=input(\"surname:\")\n",
    "c=input(\"hometown:\")\n",
    "d=input(\"job:\")\n",
    "print(\"a,b,c,d\",sep\"\\n\")\n"
   ]
  },
  {
   "cell_type": "code",
   "execution_count": 11,
   "metadata": {},
   "outputs": [
    {
     "name": "stdout",
     "output_type": "stream",
     "text": [
      "Adınız : Burcu\n",
      "Soyadınız : Hello\n",
      "Isletım sistemi: Ubuntu\n",
      "Şehir : İstanbul\n",
      "\n"
     ]
    }
   ],
   "source": [
    "isim = \"Burcu\"\n",
    "soyisim = \"Hello\"\n",
    "işsis = \"Ubuntu\"\n",
    "şehir = \"İstanbul\"\n",
    "print(\"Adınız : \", isim,       \"\\n\",\n",
    "      \"Soyadınız : \", soyisim, \"\\n\",\n",
    "      \"Isletım sistemi: \", işsis, \"\\n\", \n",
    "      \"Şehir : \", şehir, \"\\n\", \n",
    "      sep=\"\")"
   ]
  },
  {
   "cell_type": "code",
   "execution_count": 12,
   "metadata": {},
   "outputs": [
    {
     "name": "stdout",
     "output_type": "stream",
     "text": [
      "isim     : Willow\n",
      "soyisim  : Waldo\n",
      "şehir    : BLAH\n",
      "\n"
     ]
    }
   ],
   "source": [
    "isim = \"Willow\"\n",
    "soyisim = \"Waldo\"\n",
    "şehir = \"BLAH\"\n",
    "#uyruğu = \"T.C\"\n",
    "print(\"isim     : \", isim, \"\\n\",\n",
    "      \"soyisim  : \", soyisim, \"\\n\",\n",
    "      \"şehir    : \", şehir, \"\\n\",\n",
    "      #\"uyruğu  : \", uyruğu, \"\\n\",\n",
    "      sep=\"\")"
   ]
  },
  {
   "cell_type": "code",
   "execution_count": 21,
   "metadata": {},
   "outputs": [
    {
     "name": "stdout",
     "output_type": "stream",
     "text": [
      "Merhaba \n",
      " Mübeccel...."
     ]
    }
   ],
   "source": [
    "isim = \"Mübeccel\" \n",
    "print(\"Merhaba\",\"\\n\",isim,  end=\"....\")"
   ]
  },
  {
   "cell_type": "code",
   "execution_count": 22,
   "metadata": {},
   "outputs": [
    {
     "name": "stdout",
     "output_type": "stream",
     "text": [
      "Your name: Burcu\n",
      "Hello! Burcu!\n"
     ]
    }
   ],
   "source": [
    "isim = input(\"Your name: \")\n",
    "print(\"Hello!\", isim, end=\"!\\n\")"
   ]
  },
  {
   "cell_type": "code",
   "execution_count": 26,
   "metadata": {},
   "outputs": [
    {
     "name": "stdout",
     "output_type": "stream",
     "text": [
      "Your name: burcu\n",
      "harikasınız burcu!\n"
     ]
    }
   ],
   "source": [
    "isim = input(\"Your name: \")\n",
    "print(\"harikasınız\", isim, end=\"!\\n\")"
   ]
  },
  {
   "cell_type": "code",
   "execution_count": 28,
   "metadata": {},
   "outputs": [
    {
     "name": "stdout",
     "output_type": "stream",
     "text": [
      "Your name: Willow\n",
      "Your age: 29\n",
      "Güzel İsim Willow!\n",
      "demek 29 yasındasınız..."
     ]
    }
   ],
   "source": [
    "isim = input(\"Your name: \")\n",
    "yas = int(input(\"Your age: \"))\n",
    "print(\"Güzel İsim\", isim, end=\"!\\n\")\n",
    "print(\"demek\", yas, \"yasındasınız\", end=\"...\")"
   ]
  },
  {
   "cell_type": "code",
   "execution_count": 33,
   "metadata": {},
   "outputs": [
    {
     "name": "stdout",
     "output_type": "stream",
     "text": [
      "alan: 631.0144\n"
     ]
    }
   ],
   "source": [
    "çap = 16\n",
    "pi = 3.14\n",
    "alan = pi * (yarıçap * yarıçap)\n",
    "\n",
    "print(\"alan:\", (pi*çap/2)**2)"
   ]
  },
  {
   "cell_type": "code",
   "execution_count": 34,
   "metadata": {},
   "outputs": [
    {
     "name": "stdout",
     "output_type": "stream",
     "text": [
      "yarıçapı giriniz: 5\n",
      "pi sayısını giriniz: 3.14\n",
      " Bu daire nin alanı 78.5 cm2'dir.\n"
     ]
    }
   ],
   "source": [
    "yaricap = int(input(\"yarıçapı giriniz: \"))\n",
    "pi = float(input(\"pi sayısını giriniz: \"))\n",
    "dairealan = pi*(yaricap*yaricap)\n",
    "\n",
    "print(\" Bu daire nin alanı\", dairealan, \"cm2'dir.\")"
   ]
  },
  {
   "cell_type": "code",
   "execution_count": null,
   "metadata": {},
   "outputs": [],
   "source": [
    "sayi = input(\"Bir sayı giriniz: \")\n",
    "\n",
    "print(\"ya bu da ne: \", sayi**2)\n"
   ]
  },
  {
   "cell_type": "code",
   "execution_count": 1,
   "metadata": {},
   "outputs": [
    {
     "name": "stdout",
     "output_type": "stream",
     "text": [
      "say a number:5\n"
     ]
    }
   ],
   "source": [
    "number = input(\"say a number:\")"
   ]
  },
  {
   "cell_type": "code",
   "execution_count": 2,
   "metadata": {},
   "outputs": [
    {
     "name": "stdout",
     "output_type": "stream",
     "text": [
      "say a number:7\n",
      "opps! there must be mistake 7 is not correct\n"
     ]
    }
   ],
   "source": [
    "number = input(\"say a number:\")\n",
    "\n",
    "print(\"opps! there must be mistake\" , number, \"is not correct\")"
   ]
  },
  {
   "cell_type": "code",
   "execution_count": 3,
   "metadata": {},
   "outputs": [
    {
     "name": "stdout",
     "output_type": "stream",
     "text": [
      "enter a word: To be\n",
      "enter a phrase: Not to be\n",
      "To be or Not to be that is the question!\n"
     ]
    }
   ],
   "source": [
    "a = input(\"enter a word: \")\n",
    "b = input(\"enter a phrase: \")\n",
    "\n",
    "print(a, \"or\", b, \"that is the question!\")"
   ]
  },
  {
   "cell_type": "code",
   "execution_count": 4,
   "metadata": {},
   "outputs": [
    {
     "name": "stdout",
     "output_type": "stream",
     "text": [
      "enter a word: To be\n",
      "enter a phrase: not to be\n",
      "To be or not to be that is the question!\n"
     ]
    }
   ],
   "source": [
    "a = input(\"enter a word: \")\n",
    "b = input(\"enter a phrase: \")\n",
    "\n",
    "print(a, \"or\", b, \"that is the question!\")"
   ]
  },
  {
   "cell_type": "code",
   "execution_count": 6,
   "metadata": {},
   "outputs": [
    {
     "name": "stdout",
     "output_type": "stream",
     "text": [
      "Lütfen bir sayı girin: 7\n",
      "Girdiğiniz sayının karesi:  49\n"
     ]
    }
   ],
   "source": [
    "sayı = int(input(\"Lütfen bir sayı girin: \"))\n",
    "print(\"Girdiğiniz sayının karesi: \", sayı ** 2)"
   ]
  },
  {
   "cell_type": "code",
   "execution_count": 1,
   "metadata": {},
   "outputs": [
    {
     "name": "stdout",
     "output_type": "stream",
     "text": [
      "\n",
      "Basit bir hesap makinesi uygulaması.\n",
      "İşleçler:\n",
      "+ toplama\n",
      "- çıkarma\n",
      "* çarpma\n",
      "/ bölme\n",
      "Yapmak istediğiniz işlemi yazıp ENTER\n",
      "tuşuna basın. (Örneğin 23 ve 46 sayılarını\n",
      "çarpmak için 23 * 46 yazdıktan sonra\n",
      "ENTER tuşuna basın.)\n",
      "\n",
      "İşleminiz: 23*46\n",
      "1058\n"
     ]
    }
   ],
   "source": [
    "print(\"\"\"\n",
    "Basit bir hesap makinesi uygulaması.\n",
    "İşleçler:\n",
    "+ toplama\n",
    "- çıkarma\n",
    "* çarpma\n",
    "/ bölme\n",
    "Yapmak istediğiniz işlemi yazıp ENTER\n",
    "tuşuna basın. (Örneğin 23 ve 46 sayılarını\n",
    "çarpmak için 23 * 46 yazdıktan sonra\n",
    "ENTER tuşuna basın.)\n",
    "\"\"\")\n",
    "a = input(\"İşleminiz: \")\n",
    "hesap = eval(a)\n",
    "print(hesap)\n",
    "\n"
   ]
  },
  {
   "cell_type": "code",
   "execution_count": 3,
   "metadata": {},
   "outputs": [
    {
     "name": "stdout",
     "output_type": "stream",
     "text": [
      "İşleminiz: 30*9\n",
      "30*9\n"
     ]
    }
   ],
   "source": [
    "veri = input(\"İşleminiz: \")\n",
    "print(veri)"
   ]
  },
  {
   "cell_type": "code",
   "execution_count": 4,
   "metadata": {},
   "outputs": [
    {
     "name": "stdout",
     "output_type": "stream",
     "text": [
      "İşleminiz: 89*2\n",
      "178\n"
     ]
    }
   ],
   "source": [
    "veri = input(\"İşleminiz: \")\n",
    "hesap= eval(veri)\n",
    "print(hesap)"
   ]
  },
  {
   "cell_type": "code",
   "execution_count": 5,
   "metadata": {},
   "outputs": [
    {
     "data": {
      "text/plain": [
       "32"
      ]
     },
     "execution_count": 5,
     "metadata": {},
     "output_type": "execute_result"
    }
   ],
   "source": [
    "2**5"
   ]
  },
  {
   "cell_type": "code",
   "execution_count": 8,
   "metadata": {},
   "outputs": [
    {
     "data": {
      "text/plain": [
       "38.0"
      ]
     },
     "execution_count": 8,
     "metadata": {},
     "output_type": "execute_result"
    }
   ],
   "source": [
    "76/2"
   ]
  },
  {
   "cell_type": "code",
   "execution_count": 9,
   "metadata": {},
   "outputs": [],
   "source": [
    "exec(\"a = 45\")"
   ]
  },
  {
   "cell_type": "code",
   "execution_count": 10,
   "metadata": {},
   "outputs": [
    {
     "name": "stdout",
     "output_type": "stream",
     "text": [
      "45\n"
     ]
    }
   ],
   "source": [
    "print(a)"
   ]
  },
  {
   "cell_type": "markdown",
   "metadata": {},
   "source": [
    "# mantıksal değerler"
   ]
  },
  {
   "cell_type": "code",
   "execution_count": 3,
   "metadata": {},
   "outputs": [
    {
     "name": "stdout",
     "output_type": "stream",
     "text": [
      "yaşınız 15\n"
     ]
    }
   ],
   "source": [
    "yas=15\n",
    "\n",
    "print(\"yaşınız\", yas)"
   ]
  },
  {
   "cell_type": "code",
   "execution_count": 6,
   "metadata": {},
   "outputs": [
    {
     "name": "stdout",
     "output_type": "stream",
     "text": [
      "your age: 30\n",
      "your city: ankara\n",
      "hoşgeldiniz\n"
     ]
    }
   ],
   "source": [
    "input(\"your age: \")\n",
    "input(\"your city: \")\n",
    "\n",
    "print(\"hoşgeldiniz\")\n"
   ]
  },
  {
   "cell_type": "code",
   "execution_count": null,
   "metadata": {},
   "outputs": [],
   "source": [
    "yas = input(\"Yaşınız: \\t\")\n",
    "print(\"Yaşınız: \", yas)"
   ]
  },
  {
   "cell_type": "code",
   "execution_count": null,
   "metadata": {},
   "outputs": [],
   "source": [
    "if n>10\n",
    "    print"
   ]
  },
  {
   "cell_type": "code",
   "execution_count": null,
   "metadata": {},
   "outputs": [],
   "source": [
    "if(n>10):\n",
    "    print(\"sayı 10'dan büyüktür\")"
   ]
  },
  {
   "cell_type": "code",
   "execution_count": 1,
   "metadata": {},
   "outputs": [
    {
     "name": "stdout",
     "output_type": "stream",
     "text": [
      "Bir sayı giriniz: 8\n",
      "Girdiğiniz sayı 10'dan küçüktür!\n"
     ]
    }
   ],
   "source": [
    "sayı = int(input(\"Bir sayı giriniz: \"))\n",
    "if sayı > 10:\n",
    "    print(\"Girdiğiniz sayı 10'dan büyüktür!\")\n",
    "if sayı < 10:\n",
    "    print(\"Girdiğiniz sayı 10'dan küçüktür!\")\n",
    "if sayı == 10:\n",
    "    print(\"Girdiğiniz sayı 10'dur!\")"
   ]
  },
  {
   "cell_type": "code",
   "execution_count": 3,
   "metadata": {},
   "outputs": [
    {
     "name": "stdout",
     "output_type": "stream",
     "text": [
      "Bir sayı giriniz: 26\n",
      "Girdiğiniz sayı 10'dan büyüktür!\n"
     ]
    }
   ],
   "source": [
    "sayı = int(input(\"Bir sayı giriniz: \"))\n",
    "if sayı > 10:\n",
    "    print(\"Girdiğiniz sayı 10'dan büyüktür!\")\n",
    "if sayı < 10:\n",
    "    print(\"Girdiğiniz sayı 10'dan küçüktür!\")\n",
    "if sayı == 10:\n",
    "    print(\"Girdiğiniz sayı 10'dur!\")"
   ]
  },
  {
   "cell_type": "code",
   "execution_count": 5,
   "metadata": {},
   "outputs": [
    {
     "name": "stdout",
     "output_type": "stream",
     "text": [
      "\n",
      "Welcome to Kahoot for learning English\n",
      "\n",
      "Password: 1234Sandman\n",
      "Your password is wrong. Try again please!\n"
     ]
    }
   ],
   "source": [
    "print(\"\"\"\n",
    "Welcome to Kahoot for learning English\n",
    "\"\"\")\n",
    "parola = input(\"Password: \")\n",
    "if parola == \"1234sandman\":\n",
    "    print(\"Welcome to KAHOOT\")\n",
    "if parola != \"1234sandman\":\n",
    "    print(\"Your password is wrong. Try again please!\")"
   ]
  },
  {
   "cell_type": "code",
   "execution_count": 7,
   "metadata": {},
   "outputs": [
    {
     "name": "stdout",
     "output_type": "stream",
     "text": [
      "Yaşınız: -12\n",
      "Yok canım, daha neler!...\n"
     ]
    }
   ],
   "source": [
    "yaş = int(input(\"Yaşınız: \"))\n",
    "if yaş == 18:\n",
    "    print(\"18 iyidir!\")\n",
    "elif yaş < 0:\n",
    "    print(\"Yok canım, daha neler!...\")\n",
    "elif yaş < 18:\n",
    "    print(\"Genç bir kardeşimizsin!\")\n",
    "elif yaş > 18:\n",
    "    print(\"Eh, artık yaş yavaş yavaş kemale eriyor!\")"
   ]
  },
  {
   "cell_type": "code",
   "execution_count": 8,
   "metadata": {},
   "outputs": [
    {
     "name": "stdout",
     "output_type": "stream",
     "text": [
      "Yaşınız: -12\n",
      "Yok canım, daha neler!...\n",
      "Genç bir kardeşimizsin!\n"
     ]
    }
   ],
   "source": [
    "yaş = int(input(\"Yaşınız: \"))\n",
    "if yaş == 18:\n",
    "    print(\"18 iyidir!\")\n",
    "if yaş < 0:\n",
    "    print(\"Yok canım, daha neler!...\")\n",
    "if yaş < 18:\n",
    "    print(\"Genç bir kardeşimizsin!\")\n",
    "if yaş > 18:\n",
    "    print(\"Eh, artık yaş yavaş yavaş kemale eriyor!\")"
   ]
  },
  {
   "cell_type": "code",
   "execution_count": 9,
   "metadata": {},
   "outputs": [
    {
     "name": "stdout",
     "output_type": "stream",
     "text": [
      "Bir sayı giriniz: 160\n",
      "verdiğiniz sayı 100'den büyüktür.\n",
      "verdiğiniz sayı 150'den büyüktür.\n"
     ]
    }
   ],
   "source": [
    "a = int(input(\"Bir sayı giriniz: \"))\n",
    "if a < 100:\n",
    "    print(\"verdiğiniz sayı 100'den küçüktür.\")\n",
    "if a < 50:\n",
    "    print(\"verdiğiniz sayı 50'den küçüktür.\")\n",
    "if a == 100:\n",
    "    print(\"verdiğiniz sayı 100'dür.\")\n",
    "if a > 100:\n",
    "    print(\"verdiğiniz sayı 100'den büyüktür.\")\n",
    "if a > 150:\n",
    "    print(\"verdiğiniz sayı 150'den büyüktür.\")"
   ]
  },
  {
   "cell_type": "code",
   "execution_count": 13,
   "metadata": {},
   "outputs": [
    {
     "name": "stdout",
     "output_type": "stream",
     "text": [
      "Bir sayı giriniz: 120\n",
      "verdiğiniz sayı 100'den büyüktür.\n"
     ]
    }
   ],
   "source": [
    "a = int(input(\"Bir sayı giriniz: \"))\n",
    "if a < 100:\n",
    "    print(\"verdiğiniz sayı 100'den küçüktür.\")\n",
    "elif a < 50:\n",
    "    print(\"verdiğiniz sayı 50'den küçüktür.\")\n",
    "elif a == 100:\n",
    "    print(\"verdiğiniz sayı 100'dür.\")\n",
    "elif a > 100:\n",
    "    print(\"verdiğiniz sayı 100'den büyüktür.\")\n",
    "elif a > 150:\n",
    "    print(\"verdiğiniz sayı 150'den büyüktür.\")"
   ]
  },
  {
   "cell_type": "code",
   "execution_count": 16,
   "metadata": {},
   "outputs": [
    {
     "name": "stdout",
     "output_type": "stream",
     "text": [
      "Bir meyve adı söyleyin bana:karpuz\n",
      "evet, karpuz bir meyvedir...\n",
      "karpuz gerçekten bir meyve midir?\n"
     ]
    }
   ],
   "source": [
    "soru = input(\"Bir meyve adı söyleyin bana:\")\n",
    "if soru == \"elma\":\n",
    "    print(\"evet, elma bir meyvedir...\")\n",
    "if soru == \"karpuz\":\n",
    "    print(\"evet, karpuz bir meyvedir...\")\n",
    "if soru == \"armut\":\n",
    "    print(\"evet, armut bir meyvedir...\")\n",
    "else:\n",
    "    print(soru, \"gerçekten bir meyve midir?\")"
   ]
  },
  {
   "cell_type": "code",
   "execution_count": 23,
   "metadata": {},
   "outputs": [
    {
     "name": "stdout",
     "output_type": "stream",
     "text": [
      "Programdan çıkmak istediğinize emin misiniz? Eminseniz 'e' harfine basın : e\n",
      "Güle güle!\n"
     ]
    }
   ],
   "source": [
    "soru = input(\"Programdan çıkmak istediğinize emin misiniz? \\\n",
    "Eminseniz 'e' harfine basın : \")\n",
    "if soru == \"e\":\n",
    "    print(\"Güle güle!\")\n",
    "elif soru == \"b\":\n",
    "    print(\"Kararsız kaldım şimdi!\")\n",
    "else:\n",
    "    print(\"Peki, biraz daha sohbet edelim!\")"
   ]
  },
  {
   "cell_type": "code",
   "execution_count": 26,
   "metadata": {},
   "outputs": [
    {
     "name": "stdout",
     "output_type": "stream",
     "text": [
      "boyunuz kaç cm?185\n",
      "boyunuz uzun\n"
     ]
    }
   ],
   "source": [
    "boy = int(input(\"boyunuz kaç cm?\"))\n",
    "if boy < 160:\n",
    "    print(\"boyunuz kısa\")\n",
    "elif boy < 180:\n",
    "    print(\"boyunuz normal\")\n",
    "else:\n",
    "    print(\"boyunuz uzun\")"
   ]
  },
  {
   "cell_type": "code",
   "execution_count": 28,
   "metadata": {},
   "outputs": [
    {
     "name": "stdout",
     "output_type": "stream",
     "text": [
      "Kullanıcı adınız: Willow\n",
      "Parolanız : 1234567\n",
      "total: 13\n"
     ]
    }
   ],
   "source": [
    "kullanıcı_adı = input(\"Kullanıcı adınız: \")\n",
    "parola = input(\"Parolanız : \")\n",
    "toplam_uzunluk = len(kullanıcı_adı) + len(parola)\n",
    "print(\"total:\", toplam_uzunluk)"
   ]
  },
  {
   "cell_type": "code",
   "execution_count": null,
   "metadata": {},
   "outputs": [],
   "source": [
    "kullanıcı_adı = input(\"Kullanıcı adınız: \")\n",
    "parola = input(\"Parolanız : \")\n",
    "toplam_uzunluk = len(kullanıcı_adı) + len(parola)\n",
    "\n",
    "mesaj=\"toplam uzunluk {} karakterden oluşuyor.\"\n",
    "\n",
    "print(mesaj.format(toplam_uzunluk))\n",
    "\n",
    "if toplam_uzunluk > 20:\n",
    "    print(\"fazla karakter kullandınız.\")\n",
    "    \n",
    "elif toplam_uzunluk == 20:\n",
    "    print(\"woow sende yine iyisin.\")\n",
    "else:\n",
    "    print(\"tamam oldu işte ne gerek var zaten çok karaktere.\")"
   ]
  },
  {
   "cell_type": "code",
   "execution_count": null,
   "metadata": {},
   "outputs": [],
   "source": []
  }
 ],
 "metadata": {
  "kernelspec": {
   "display_name": "Python 3",
   "language": "python",
   "name": "python3"
  },
  "language_info": {
   "codemirror_mode": {
    "name": "ipython",
    "version": 3
   },
   "file_extension": ".py",
   "mimetype": "text/x-python",
   "name": "python",
   "nbconvert_exporter": "python",
   "pygments_lexer": "ipython3",
   "version": "3.8.5"
  }
 },
 "nbformat": 4,
 "nbformat_minor": 4
}
