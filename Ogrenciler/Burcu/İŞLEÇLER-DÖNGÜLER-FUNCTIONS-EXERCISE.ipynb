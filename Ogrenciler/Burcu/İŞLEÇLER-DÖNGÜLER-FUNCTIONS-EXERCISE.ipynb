{
 "cells": [
  {
   "cell_type": "markdown",
   "metadata": {},
   "source": [
    "# işleçler"
   ]
  },
  {
   "cell_type": "code",
   "execution_count": 1,
   "metadata": {},
   "outputs": [
    {
     "data": {
      "text/plain": [
       "'----------------------------------------------------------------------------------------------------'"
      ]
     },
     "execution_count": 1,
     "metadata": {},
     "output_type": "execute_result"
    }
   ],
   "source": [
    "\"-\"*100"
   ]
  },
  {
   "cell_type": "code",
   "execution_count": 12,
   "metadata": {},
   "outputs": [
    {
     "name": "stdout",
     "output_type": "stream",
     "text": [
      "Bir sayı girin: 10\n",
      "Girdiğiniz sayı bir çift sayıdır.\n"
     ]
    }
   ],
   "source": [
    "sayı = int(input(\"Bir sayı girin: \"))\n",
    "if sayı % 2 == 0:\n",
    "    print(\"Girdiğiniz sayı bir çift sayıdır.\")\n",
    "else:\n",
    "    print(\"Girdiğiniz sayı bir tek sayıdır.\")"
   ]
  },
  {
   "cell_type": "code",
   "execution_count": 14,
   "metadata": {},
   "outputs": [
    {
     "name": "stdout",
     "output_type": "stream",
     "text": [
      "Bir sayı girin: 20\n",
      "Bir sayı daha girin: 5\n",
      "20 sayısı 5 sayısına tam bölünüyor!\n"
     ]
    }
   ],
   "source": [
    "bölünen = int(input(\"Bir sayı girin: \"))\n",
    "bölen = int(input(\"Bir sayı daha girin: \"))\n",
    "şablon = \"{} sayısı {} sayısına tam\".format(bölünen, bölen)\n",
    "if bölünen % bölen == 0:\n",
    "    print(şablon, \"bölünüyor!\")\n",
    "else:\n",
    "    print(şablon, \"bölünmüyor!\")"
   ]
  },
  {
   "cell_type": "code",
   "execution_count": 16,
   "metadata": {},
   "outputs": [],
   "source": [
    "a=2.33"
   ]
  },
  {
   "cell_type": "code",
   "execution_count": 17,
   "metadata": {},
   "outputs": [
    {
     "data": {
      "text/plain": [
       "2"
      ]
     },
     "execution_count": 17,
     "metadata": {},
     "output_type": "execute_result"
    }
   ],
   "source": [
    "round(a)"
   ]
  },
  {
   "cell_type": "code",
   "execution_count": 18,
   "metadata": {},
   "outputs": [],
   "source": [
    "b=2.77"
   ]
  },
  {
   "cell_type": "code",
   "execution_count": 19,
   "metadata": {},
   "outputs": [
    {
     "data": {
      "text/plain": [
       "3"
      ]
     },
     "execution_count": 19,
     "metadata": {},
     "output_type": "execute_result"
    }
   ],
   "source": [
    "round(b)"
   ]
  },
  {
   "cell_type": "code",
   "execution_count": 20,
   "metadata": {},
   "outputs": [
    {
     "name": "stdout",
     "output_type": "stream",
     "text": [
      "parolanız: xyz34ü\n",
      "yanlış parola!\n"
     ]
    }
   ],
   "source": [
    "parola = \"xyz05\"\n",
    "soru = input(\"parolanız: \")\n",
    "if soru == parola:\n",
    "    print(\"doğru parola!\")\n",
    "elif soru != parola:\n",
    "    print(\"yanlış parola!\")"
   ]
  },
  {
   "cell_type": "code",
   "execution_count": 21,
   "metadata": {},
   "outputs": [],
   "source": [
    "a=1\n"
   ]
  },
  {
   "cell_type": "code",
   "execution_count": 22,
   "metadata": {},
   "outputs": [
    {
     "data": {
      "text/plain": [
       "False"
      ]
     },
     "execution_count": 22,
     "metadata": {},
     "output_type": "execute_result"
    }
   ],
   "source": [
    "a==3"
   ]
  },
  {
   "cell_type": "code",
   "execution_count": 23,
   "metadata": {},
   "outputs": [
    {
     "data": {
      "text/plain": [
       "True"
      ]
     },
     "execution_count": 23,
     "metadata": {},
     "output_type": "execute_result"
    }
   ],
   "source": [
    "a==1"
   ]
  },
  {
   "cell_type": "code",
   "execution_count": 24,
   "metadata": {},
   "outputs": [
    {
     "data": {
      "text/plain": [
       "False"
      ]
     },
     "execution_count": 24,
     "metadata": {},
     "output_type": "execute_result"
    }
   ],
   "source": [
    "bool(0)"
   ]
  },
  {
   "cell_type": "code",
   "execution_count": 25,
   "metadata": {},
   "outputs": [
    {
     "data": {
      "text/plain": [
       "True"
      ]
     },
     "execution_count": 25,
     "metadata": {},
     "output_type": "execute_result"
    }
   ],
   "source": [
    "bool(\" \")"
   ]
  },
  {
   "cell_type": "code",
   "execution_count": 27,
   "metadata": {},
   "outputs": [
    {
     "name": "stdout",
     "output_type": "stream",
     "text": [
      "Kullanıcı adınız: heid\n",
      "Teşekkürler!\n"
     ]
    }
   ],
   "source": [
    "kullanıcı = input(\"Kullanıcı adınız: \")\n",
    "if bool(kullanıcı) == True:\n",
    "    print(\"Teşekkürler!\")\n",
    "else:\n",
    "    print(\"Kullanıcı adını boş bıraktınız!\")"
   ]
  },
  {
   "cell_type": "code",
   "execution_count": 29,
   "metadata": {},
   "outputs": [
    {
     "name": "stdout",
     "output_type": "stream",
     "text": [
      "Kullanıcı adınız: hoy\n",
      "Teşekkürler!\n"
     ]
    }
   ],
   "source": [
    "kullanıcı = input(\"Kullanıcı adınız: \")\n",
    "if kullanıcı:\n",
    "    print(\"Teşekkürler!\")"
   ]
  },
  {
   "cell_type": "code",
   "execution_count": 30,
   "metadata": {},
   "outputs": [
    {
     "name": "stdout",
     "output_type": "stream",
     "text": [
      "Kullanıcı adınız: aliveli\n",
      "Parolanız: 12345690\n",
      "Yanlış kullanıcı adı veya parola!\n"
     ]
    }
   ],
   "source": [
    "kullanıcı_adı = input(\"Kullanıcı adınız: \")\n",
    "parola = input(\"Parolanız: \")\n",
    "if kullanıcı_adı == \"aliveli\":\n",
    "    if parola == \"12345678\":\n",
    "        print(\"Programa hoşgeldiniz\")\n",
    "    else:\n",
    "        print(\"Yanlış kullanıcı adı veya parola!\")"
   ]
  },
  {
   "cell_type": "code",
   "execution_count": 31,
   "metadata": {},
   "outputs": [
    {
     "name": "stdout",
     "output_type": "stream",
     "text": [
      "Kullanıcı adınız: aliveli\n",
      "Parolanız: 12345678\n",
      "Programa hoşgeldiniz\n"
     ]
    }
   ],
   "source": [
    "kullanıcı_adı = input(\"Kullanıcı adınız: \")\n",
    "parola = input(\"Parolanız: \")\n",
    "if kullanıcı_adı == \"aliveli\" and parola == \"12345678\":\n",
    "    print(\"Programa hoşgeldiniz\")\n",
    "else:\n",
    "    print(\"Yanlış kullanıcı adı veya parola!\")"
   ]
  },
  {
   "cell_type": "code",
   "execution_count": null,
   "metadata": {},
   "outputs": [],
   "source": []
  }
 ],
 "metadata": {
  "kernelspec": {
   "display_name": "Python 3",
   "language": "python",
   "name": "python3"
  },
  "language_info": {
   "codemirror_mode": {
    "name": "ipython",
    "version": 3
   },
   "file_extension": ".py",
   "mimetype": "text/x-python",
   "name": "python",
   "nbconvert_exporter": "python",
   "pygments_lexer": "ipython3",
   "version": "3.8.5"
  }
 },
 "nbformat": 4,
 "nbformat_minor": 4
}
