{
 "cells": [
  {
   "cell_type": "markdown",
   "metadata": {},
   "source": [
    "# FOKSIYONLAR"
   ]
  },
  {
   "cell_type": "code",
   "execution_count": 4,
   "metadata": {},
   "outputs": [
    {
     "ename": "SyntaxError",
     "evalue": "invalid syntax (<ipython-input-4-d79705792814>, line 1)",
     "output_type": "error",
     "traceback": [
      "\u001b[1;36m  File \u001b[1;32m\"<ipython-input-4-d79705792814>\"\u001b[1;36m, line \u001b[1;32m1\u001b[0m\n\u001b[1;33m    def partofspeech(verb, noun, adjective, adverb )\u001b[0m\n\u001b[1;37m                                                    ^\u001b[0m\n\u001b[1;31mSyntaxError\u001b[0m\u001b[1;31m:\u001b[0m invalid syntax\n"
     ]
    }
   ],
   "source": [
    "def partofspeech(verb, noun, adjective, adverb )\n",
    "    \n",
    "    print(\"verb     :\", verb)\n",
    "    print(\"noun     :\", noun)\n",
    "    print(\"adjective:\", adjective)\n",
    "    print(\"adverb   :\", adverb)\n",
    "    \n",
    "partofspeech(\"vary\",\"variety\",\"various\",\"variously\")\n",
    "partofspeech(\"beautify\",\"beauty\",\"beautiful\",\"beautifully\")\n",
    "partofspeech(\"create\",\"creativity\",\"creative\",\"creatively\")\n",
    "partofspeech(\"affect\",\"effect\",\"affective\",\"affectively\")\n",
    "partofspeech(\"simplify\",\"simplification\",\"simple\",\"simply\")\n",
    "partofspeech(\"produce\",\"production\",\"productive\",\"productively\")\n"
   ]
  },
  {
   "cell_type": "code",
   "execution_count": null,
   "metadata": {},
   "outputs": [],
   "source": []
  }
 ],
 "metadata": {
  "kernelspec": {
   "display_name": "Python 3",
   "language": "python",
   "name": "python3"
  },
  "language_info": {
   "codemirror_mode": {
    "name": "ipython",
    "version": 3
   },
   "file_extension": ".py",
   "mimetype": "text/x-python",
   "name": "python",
   "nbconvert_exporter": "python",
   "pygments_lexer": "ipython3",
   "version": "3.8.5"
  }
 },
 "nbformat": 4,
 "nbformat_minor": 4
}
