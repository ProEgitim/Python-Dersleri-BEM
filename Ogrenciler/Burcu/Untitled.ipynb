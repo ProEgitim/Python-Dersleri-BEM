{
 "cells": [
  {
   "cell_type": "markdown",
   "metadata": {},
   "source": [
    "# FOKSIYONLAR"
   ]
  },
  {
   "cell_type": "markdown",
   "metadata": {},
   "source": [
    "1.Python’da kabaca iki tip fonksiyon bulunur. Bunlardan biri gömülü fonksiyonlar (builtin\n",
    "functions), öteki ise özel fonksiyonlardır (custom functions ). Burada ‘özel’ ifadesi,\n",
    "‘kullanıcının ihtiyaçlarına göre kullanıcı tarafından özel olarak üretilmis’ anlamına gelir.\n",
    "\n",
    "2. Gömülü fonksiyonlar; Python gelistiricileri tarafından tanımlanıp dilin içine gömülmüs\n",
    "olan print(), open(), type(), str(), int() vb. fonksiyonlardır. Bu fonksiyonlar\n",
    "halihazırda tanımlanıp hizmetimize sunuldugu için bunları biz herhangi bir tanımlama\n",
    "islemi yapmadan dogrudan kullanabiliriz.\n",
    "\n",
    "3. Özel fonksiyonlar ise, gömülü fonksiyonların aksine, Python gelistiricileri tarafından\n",
    "degil, bizim tarafımızdan tanımlanmıstır. Bu fonksiyonlar dilin bir parçası olmadıgından,\n",
    "bu fonksiyonları kullanabilmek için bunları öncelikle tanımlamamız gerekir.\n",
    "4.Python’da bir fonksiyonun yasam döngüsü iki asamadan olusur: Tanımlanma ve\n",
    "çagrılma.\n",
    "\n",
    "5. Bir fonksiyonun çagrılabilmesi (yani kullanılabilmesi) için mutlaka birisi tarafından\n",
    "tanımlanmıs olması gerekir.\n",
    "\n",
    "6. Fonksiyonu tanımlayan kisi Python gelistiricileri olabilecegi gibi, siz de olabilirsiniz. Ama\n",
    "neticede ortada bir fonksiyon varsa, bir yerlerde o fonksiyonun tanımı da vardır.\n",
    "\n",
    "7. Fonksiyon tanımlamak için def adlı bir ifadeden yararlanıyoruz. Bu ifadeden sonra,\n",
    "tanımlayacagımız fonksiyonun adını belirleyip iki nokta üst üste isareti koyuyoruz. Iki\n",
    "nokta üst üste isaretinden sonra gelen satırlar girintili olarak yazılıyor. Daha önce\n",
    "ögrendigimiz bütün girintileme kuralları burada da geçerlidir.\n"
   ]
  },
  {
   "cell_type": "code",
   "execution_count": 5,
   "metadata": {},
   "outputs": [
    {
     "name": "stdout",
     "output_type": "stream",
     "text": [
      "verb     : vary\n",
      "noun     : variety\n",
      "adjective: various\n",
      "adverb   : variously\n",
      "verb     : beautify\n",
      "noun     : beauty\n",
      "adjective: beautiful\n",
      "adverb   : beautifully\n",
      "verb     : create\n",
      "noun     : creativity\n",
      "adjective: creative\n",
      "adverb   : creatively\n",
      "verb     : affect\n",
      "noun     : effect\n",
      "adjective: affective\n",
      "adverb   : affectively\n",
      "verb     : simplify\n",
      "noun     : simplification\n",
      "adjective: simple\n",
      "adverb   : simply\n",
      "verb     : produce\n",
      "noun     : production\n",
      "adjective: productive\n",
      "adverb   : productively\n"
     ]
    }
   ],
   "source": [
    "def partofspeech(verb, noun, adjective, adverb):\n",
    "    \n",
    "    print(\"verb     :\", verb)\n",
    "    print(\"noun     :\", noun)\n",
    "    print(\"adjective:\", adjective)\n",
    "    print(\"adverb   :\", adverb)\n",
    "    \n",
    "partofspeech(\"vary\",\"variety\",\"various\",\"variously\")\n",
    "partofspeech(\"beautify\",\"beauty\",\"beautiful\",\"beautifully\")\n",
    "partofspeech(\"create\",\"creativity\",\"creative\",\"creatively\")\n",
    "partofspeech(\"affect\",\"effect\",\"affective\",\"affectively\")\n",
    "partofspeech(\"simplify\",\"simplification\",\"simple\",\"simply\")\n",
    "partofspeech(\"produce\",\"production\",\"productive\",\"productively\")\n"
   ]
  },
  {
   "cell_type": "code",
   "execution_count": 7,
   "metadata": {},
   "outputs": [
    {
     "name": "stdout",
     "output_type": "stream",
     "text": [
      "Elveda Zalim Dünya!\n"
     ]
    }
   ],
   "source": [
    "def selamla():\n",
    "    print(\"Elveda Zalim Dünya!\")\n",
    "    \n",
    "selamla()"
   ]
  },
  {
   "cell_type": "markdown",
   "metadata": {},
   "source": [
    "print(), type() len() gibi foksiyon ürünleri de foksiyonların derinlerde bir yerde önceden yapılan tanımlamalardır.\n",
    "yani aslında öncesimde def print() bizim kullanabilceğimiz bir hale getirilmiştir.\n"
   ]
  },
  {
   "cell_type": "code",
   "execution_count": 11,
   "metadata": {},
   "outputs": [
    {
     "name": "stdout",
     "output_type": "stream",
     "text": [
      "sayı gir:4\n",
      "4 sayısının karesi 16 sayısıdır\n",
      "sayı gir:6\n",
      "6 sayısının karesi 36 sayısıdır\n",
      "sayı gir:7\n",
      "7 sayısının karesi 49 sayısıdır\n",
      "sayı gir:9\n",
      "9 sayısının karesi 81 sayısıdır\n",
      "sayı gir:10\n",
      "10 sayısının karesi 100 sayısıdır\n",
      "sayı gir:2\n",
      "2 sayısının karesi 4 sayısıdır\n",
      "sayı gir:15\n",
      "15 sayısının karesi 225 sayısıdır\n",
      "sayı gir:89\n",
      "89 sayısının karesi 7921 sayısıdır\n"
     ]
    }
   ],
   "source": [
    "def kare_bul():\n",
    "    sayı = int(input(\"sayı gir:\"))\n",
    "    çıktı = \"{} sayısının karesi {} sayısıdır\"\n",
    "    print(çıktı.format(sayı, sayı**2))\n",
    "kare_bul()\n",
    "kare_bul()\n",
    "kare_bul()\n",
    "kare_bul()\n",
    "kare_bul()\n",
    "kare_bul()\n",
    "kare_bul()\n",
    "kare_bul()"
   ]
  },
  {
   "cell_type": "code",
   "execution_count": 14,
   "metadata": {},
   "outputs": [
    {
     "name": "stdout",
     "output_type": "stream",
     "text": [
      "7\n"
     ]
    }
   ],
   "source": [
    "c = 0\n",
    "for s in \"istihza\":\n",
    "    c += 1\n",
    "print(c)"
   ]
  },
  {
   "cell_type": "code",
   "execution_count": 18,
   "metadata": {},
   "outputs": [
    {
     "data": {
      "text/plain": [
       "34"
      ]
     },
     "execution_count": 18,
     "metadata": {},
     "output_type": "execute_result"
    }
   ],
   "source": [
    "len(\"supercalifragilisticexpialidocious\")"
   ]
  },
  {
   "cell_type": "markdown",
   "metadata": {},
   "source": [
    "Peki ya Python’da len() diye bir fonksiyon olmasaydı ne yapacaktınız? Böyle bir durumda,\n",
    "karakter dizilerinin uzunlugunu ölçmek için sizin bir yöntem icat etmeniz gerekecekti.\n"
   ]
  },
  {
   "cell_type": "code",
   "execution_count": 16,
   "metadata": {},
   "outputs": [
    {
     "name": "stdout",
     "output_type": "stream",
     "text": [
      "34\n"
     ]
    }
   ],
   "source": [
    "x = 0\n",
    "for i in \"supercalifragilisticexpialidocious\":\n",
    "    x += 1\n",
    "print(x)"
   ]
  },
  {
   "cell_type": "markdown",
   "metadata": {},
   "source": [
    "ancak kendimize ait bir fonksiyon tanımlarsak ; o zaman bu ayrı ayrı zahmette kurtulmuş oluruz.\n"
   ]
  },
  {
   "cell_type": "code",
   "execution_count": 19,
   "metadata": {},
   "outputs": [
    {
     "name": "stdout",
     "output_type": "stream",
     "text": [
      "16\n",
      "12\n",
      "20\n",
      "12\n"
     ]
    }
   ],
   "source": [
    "def uzunluk(word):\n",
    "    c = 0\n",
    "    for s in word:\n",
    "        c += 1\n",
    "    print(c)\n",
    "    \n",
    "uzunluk(\"once upon a time\")\n",
    "uzunluk(\"municipality\")\n",
    "uzunluk(\"the lord of the ring\")\n",
    "uzunluk(\"mice_and_men\")"
   ]
  },
  {
   "cell_type": "code",
   "execution_count": 29,
   "metadata": {},
   "outputs": [
    {
     "name": "stdout",
     "output_type": "stream",
     "text": [
      "-3456\n"
     ]
    }
   ],
   "source": [
    "def çarp(*sayılar):\n",
    "    sonuç = -1\n",
    "    for i in sayılar:\n",
    "        sonuç *= i\n",
    "    print(sonuç)\n",
    "çarp(2,4,6,8,9)"
   ]
  },
  {
   "cell_type": "code",
   "execution_count": 34,
   "metadata": {},
   "outputs": [
    {
     "name": "stdout",
     "output_type": "stream",
     "text": [
      "a b\n"
     ]
    }
   ],
   "source": [
    "sözlük = {\"a\": 1, \"b\": 2}\n",
    "print(*sözlük)\n"
   ]
  },
  {
   "cell_type": "code",
   "execution_count": null,
   "metadata": {},
   "outputs": [],
   "source": []
  }
 ],
 "metadata": {
  "kernelspec": {
   "display_name": "Python 3",
   "language": "python",
   "name": "python3"
  },
  "language_info": {
   "codemirror_mode": {
    "name": "ipython",
    "version": 3
   },
   "file_extension": ".py",
   "mimetype": "text/x-python",
   "name": "python",
   "nbconvert_exporter": "python",
   "pygments_lexer": "ipython3",
   "version": "3.8.5"
  }
 },
 "nbformat": 4,
 "nbformat_minor": 4
}
